{
 "cells": [
  {
   "cell_type": "markdown",
   "metadata": {},
   "source": [
    "# Notebook to convert to .JSON"
   ]
  },
  {
   "cell_type": "markdown",
   "metadata": {},
   "source": [
    "The units are converted because the JSON format requires the units to be in voxels. The Porespy networks were extracted using the unit value in meters."
   ]
  },
  {
   "cell_type": "code",
   "execution_count": 1,
   "metadata": {},
   "outputs": [],
   "source": [
    "import openpnm as op"
   ]
  },
  {
   "cell_type": "code",
   "execution_count": 2,
   "metadata": {},
   "outputs": [],
   "source": [
    "name = \"Parker\"\n",
    "unit=2.25e-6"
   ]
  },
  {
   "cell_type": "code",
   "execution_count": 3,
   "metadata": {},
   "outputs": [],
   "source": [
    "pn_project = op.io.OpenpnmIO.load_project(name+\".pnm\");\n",
    "pn = pn_project.network;\n",
    "pn['pore.coords'] = pn['pore.coords']/unit\n",
    "pn['pore.centroid'] = pn['pore.centroid']/unit\n",
    "pn['throat.centroid'] = pn['throat.centroid']/unit\n",
    "pn['pore.volume'] = pn['pore.volume']/(unit**3);\n",
    "pn['throat.volume'] = pn['throat.volume']/(unit**3);\n",
    "pn['pore.diameter'] = pn['pore.diameter']/unit;\n",
    "pn['pore.inscribed_diameter'] = pn['pore.inscribed_diameter']/unit;\n",
    "pn['pore.equivalent_diameter'] = pn['pore.equivalent_diameter']/unit;\n",
    "pn['pore.extended_diameter'] = pn['pore.extended_diameter']/unit;\n",
    "pn['pore.surface_area'] = pn['pore.surface_area']/(unit**2);\n",
    "pn['throat.diameter'] = pn['throat.diameter']/unit;\n",
    "pn['throat.inscribed_diameter'] = pn['throat.inscribed_diameter']/unit;\n",
    "pn['throat.area'] = pn['throat.area']/(unit**2);\n",
    "pn['throat.perimeter'] = pn['throat.perimeter']/unit;\n",
    "pn['throat.equivalent_diameter'] = pn['throat.equivalent_diameter']/unit;\n",
    "pn['throat.total_length'] = pn['throat.total_length']/unit;\n",
    "pn['throat.length'] = pn['throat.length']/unit;\n",
    "pn['throat.direct_length'] = pn['throat.direct_length']/unit;\n",
    "pn['throat.endpoints.head'] = pn['throat.endpoints.head']/unit;\n",
    "pn['throat.endpoints.tail'] = pn['throat.endpoints.tail']/unit;\n",
    "pn['throat.conduit_lengths.pore1'] = pn['throat.conduit_lengths.pore1']/unit;\n",
    "pn['throat.conduit_lengths.pore2'] = pn['throat.conduit_lengths.pore2']/unit;\n",
    "pn['throat.conduit_lengths.throat'] = pn['throat.conduit_lengths.throat']/unit;\n",
    "pn['pore.area'] = pn['pore.area']/(unit**2);\n",
    "op.io.JSONGraphFormat.save(pn,name);"
   ]
  }
 ],
 "metadata": {
  "@webio": {
   "lastCommId": null,
   "lastKernelId": null
  },
  "hide_input": false,
  "kernelspec": {
   "display_name": "Python 3",
   "language": "python",
   "name": "python3"
  },
  "language_info": {
   "codemirror_mode": {
    "name": "ipython",
    "version": 3
   },
   "file_extension": ".py",
   "mimetype": "text/x-python",
   "name": "python",
   "nbconvert_exporter": "python",
   "pygments_lexer": "ipython3",
   "version": "3.7.3"
  }
 },
 "nbformat": 4,
 "nbformat_minor": 2
}
