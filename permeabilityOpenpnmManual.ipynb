{
 "cells": [
  {
   "cell_type": "markdown",
   "metadata": {},
   "source": [
    "# Permeability using OpenPNM from saved network files"
   ]
  },
  {
   "cell_type": "markdown",
   "metadata": {},
   "source": [
    "### Start by importing the necessary packages"
   ]
  },
  {
   "cell_type": "code",
   "execution_count": 1,
   "metadata": {},
   "outputs": [
    {
     "data": {
      "text/plain": [
       "'2.4.2'"
      ]
     },
     "execution_count": 1,
     "metadata": {},
     "output_type": "execute_result"
    }
   ],
   "source": [
    "import numpy as np\n",
    "import openpnm as op\n",
    "import porespy as ps\n",
    "np.set_printoptions(precision=4)\n",
    "np.random.seed(10)\n",
    "op.__version__"
   ]
  },
  {
   "cell_type": "markdown",
   "metadata": {},
   "source": [
    "### Import network in OpenPNM"
   ]
  },
  {
   "cell_type": "code",
   "execution_count": 2,
   "metadata": {},
   "outputs": [],
   "source": [
    "name = \"Parker\"\n",
    "resolution = 2.25e-6"
   ]
  },
  {
   "cell_type": "markdown",
   "metadata": {},
   "source": [
    "### Import .PNM network"
   ]
  },
  {
   "cell_type": "code",
   "execution_count": null,
   "metadata": {},
   "outputs": [],
   "source": [
    "proj = op.io.OpenpnmIO.load_project(\"ValidationPNM/\"+name+\".pnm\");\n",
    "pn = proj.network;"
   ]
  },
  {
   "cell_type": "markdown",
   "metadata": {},
   "source": [
    "### Import .JSON network"
   ]
  },
  {
   "cell_type": "raw",
   "metadata": {},
   "source": [
    "proj = op.io.JSONGraphFormat.load('ValidationPNM/'+name+'.json');\n",
    "pn = proj.network;\n",
    "\n",
    "### Add boundary nodes information to pn\n",
    "\n",
    "pn['pore.right']=np.array([True if coord[0]<=1 else False for coord in pn['pore.coords']])\n",
    "pn['pore.left']=np.array([True if coord[0]>=999 else False for coord in pn['pore.coords']])\n",
    "\n",
    "pn['pore.front']=np.array([True if coord[1]<=1 else False for coord in pn['pore.coords']])\n",
    "pn['pore.back']=np.array([True if coord[1]>=999 else False for coord in pn['pore.coords']])\n",
    "\n",
    "pn['pore.top']=np.array([True if coord[2]<=1 else False for coord in pn['pore.coords']])\n",
    "pn['pore.bottom']=np.array([True if coord[2]>=999 else False for coord in pn['pore.coords']])\n",
    "\n",
    "\n",
    "pn['pore.coords'] = pn['pore.coords']*resolution\n",
    "pn['pore.volume'] = pn['pore.volume']*(resolution**3);\n",
    "pn['pore.area'] = pn['pore.area']*(resolution**2);\n",
    "pn['pore.diameter'] = pn['pore.diameter']*resolution;\n",
    "pn['throat.diameter'] = pn['throat.diameter']*resolution;\n",
    "pn['throat.area'] = pn['throat.area']*(resolution**2);\n",
    "pn['throat.length'] = pn['throat.length']*resolution;\n",
    "pn['throat.volume'] = pn['throat.volume']*(resolution**3);"
   ]
  },
  {
   "cell_type": "markdown",
   "metadata": {},
   "source": [
    "Now we can print the network to see how the transferred worked:"
   ]
  },
  {
   "cell_type": "code",
   "execution_count": 4,
   "metadata": {},
   "outputs": [
    {
     "name": "stdout",
     "output_type": "stream",
     "text": [
      "――――――――――――――――――――――――――――――――――――――――――――――――――――――――――――――――――――――――――――――\n",
      "openpnm.network.GenericNetwork : net_01\n",
      "――――――――――――――――――――――――――――――――――――――――――――――――――――――――――――――――――――――――――――――\n",
      "#     Properties                                    Valid Values\n",
      "――――――――――――――――――――――――――――――――――――――――――――――――――――――――――――――――――――――――――――――\n",
      "1     pore.area                                     44208 / 44208\n",
      "2     pore.coords                                   44208 / 44208\n",
      "3     pore.diameter                                 44208 / 44208\n",
      "4     pore.index                                    44208 / 44208\n",
      "5     pore.volume                                   44208 / 44208\n",
      "6     throat.area                                   69226 / 69226\n",
      "7     throat.conns                                  69226 / 69226\n",
      "8     throat.diameter                               69226 / 69226\n",
      "9     throat.length                                 69226 / 69226\n",
      "10    throat.perimeter                              69226 / 69226\n",
      "11    throat.surface_area                           69226 / 69226\n",
      "12    throat.volume                                 69226 / 69226\n",
      "――――――――――――――――――――――――――――――――――――――――――――――――――――――――――――――――――――――――――――――\n",
      "#     Labels                                        Assigned Locations\n",
      "――――――――――――――――――――――――――――――――――――――――――――――――――――――――――――――――――――――――――――――\n",
      "1     pore.all                                      44208     \n",
      "2     pore.back                                     923       \n",
      "3     pore.bottom                                   776       \n",
      "4     pore.front                                    489       \n",
      "5     pore.left                                     1032      \n",
      "6     pore.right                                    500       \n",
      "7     pore.top                                      694       \n",
      "8     throat.all                                    69226     \n",
      "――――――――――――――――――――――――――――――――――――――――――――――――――――――――――――――――――――――――――――――\n"
     ]
    }
   ],
   "source": [
    "print(pn)"
   ]
  },
  {
   "cell_type": "markdown",
   "metadata": {},
   "source": [
    "### Check network health"
   ]
  },
  {
   "cell_type": "markdown",
   "metadata": {},
   "source": [
    "Remove isolated pores or cluster of pores from the network by checking it network health. Make sure ALL keys in network health functions have no value. "
   ]
  },
  {
   "cell_type": "code",
   "execution_count": 5,
   "metadata": {
    "scrolled": true
   },
   "outputs": [
    {
     "name": "stdout",
     "output_type": "stream",
     "text": [
      "――――――――――――――――――――――――――――――――――――――――――――――――――――――――――――――――――――――――――――――\n",
      "key                                 value\n",
      "――――――――――――――――――――――――――――――――――――――――――――――――――――――――――――――――――――――――――――――\n",
      "disconnected_clusters               []\n",
      "isolated_pores                      []\n",
      "trim_pores                          []\n",
      "duplicate_throats                   []\n",
      "bidirectional_throats               []\n",
      "headless_throats                    []\n",
      "looped_throats                      []\n",
      "――――――――――――――――――――――――――――――――――――――――――――――――――――――――――――――――――――――――――――――\n"
     ]
    }
   ],
   "source": [
    "h = pn.check_network_health()\n",
    "op.topotools.trim(network=pn, pores=h['trim_pores'])\n",
    "h = pn.check_network_health()\n",
    "print(h)"
   ]
  },
  {
   "cell_type": "markdown",
   "metadata": {},
   "source": [
    "### Assign geometry"
   ]
  },
  {
   "cell_type": "code",
   "execution_count": 6,
   "metadata": {},
   "outputs": [],
   "source": [
    "geo = op.geometry.GenericGeometry(network=pn, pores=pn.Ps, throats=pn.Ts)"
   ]
  },
  {
   "cell_type": "markdown",
   "metadata": {},
   "source": [
    "### Assign phase"
   ]
  },
  {
   "cell_type": "markdown",
   "metadata": {},
   "source": [
    "In this example air is considered as fluid passing through porous channels. "
   ]
  },
  {
   "cell_type": "code",
   "execution_count": 7,
   "metadata": {},
   "outputs": [],
   "source": [
    "water = op.phases.Water(network=pn)"
   ]
  },
  {
   "cell_type": "markdown",
   "metadata": {},
   "source": [
    "### Assign physics"
   ]
  },
  {
   "cell_type": "code",
   "execution_count": 8,
   "metadata": {},
   "outputs": [],
   "source": [
    "phys_water=op.physics.GenericPhysics(network=pn, phase=water, geometry=geo)\n",
    "R = geo['throat.diameter']/2.0;\n",
    "L = geo['throat.length'];\n",
    "phys_water['throat.hydraulic_conductance'] = (np.pi*(R**4))/(8*water['pore.viscosity'].max()*L) "
   ]
  },
  {
   "cell_type": "markdown",
   "metadata": {},
   "source": [
    "### Calculate effective permeability"
   ]
  },
  {
   "cell_type": "code",
   "execution_count": 9,
   "metadata": {},
   "outputs": [
    {
     "name": "stdout",
     "output_type": "stream",
     "text": [
      "X: [10.6251] mD\n",
      "Y: [12.9731] mD\n",
      "Z: [14.1473] mD\n"
     ]
    }
   ],
   "source": [
    "A = (1000*1000) *resolution**2\n",
    "L = 1000 * resolution\n",
    "mu = water['pore.viscosity'].max()\n",
    "Pressure = 10e3;\n",
    "delta_P = Pressure - 0\n",
    "#X\n",
    "perm = op.algorithms.StokesFlow(network=pn, project=proj)\n",
    "perm.setup(phase=water)\n",
    "perm.set_value_BC(pores=pn.pores('top'), values=0)\n",
    "perm.set_value_BC(pores=pn.pores('bottom'), values=Pressure)\n",
    "perm.run()\n",
    "Q = perm.rate(pores=pn.pores('bottom'), mode='group')\n",
    "K = Q * L * mu / (A * delta_P)\n",
    "print('X:', K/0.98e-12*1000, 'mD')\n",
    "\n",
    "#y\n",
    "perm = op.algorithms.StokesFlow(network=pn, project=proj)\n",
    "perm.setup(phase=water)\n",
    "perm.set_value_BC(pores=pn.pores('front'), values=0)\n",
    "perm.set_value_BC(pores=pn.pores('back'), values=Pressure)\n",
    "perm.run()\n",
    "Q = perm.rate(pores=pn.pores('back'), mode='group')\n",
    "K = Q * L * mu / (A * delta_P)\n",
    "print('Y:', K/0.98e-12*1000, 'mD')\n",
    "\n",
    "#z\n",
    "perm = op.algorithms.StokesFlow(network=pn, project=proj)\n",
    "perm.setup(phase=water)\n",
    "perm.set_value_BC(pores=pn.pores('left'), values=0)\n",
    "perm.set_value_BC(pores=pn.pores('right'), values=Pressure)\n",
    "perm.run()\n",
    "Q = perm.rate(pores=pn.pores('right'), mode='group')\n",
    "K = Q * L * mu / (A * delta_P)\n",
    "print('Z:', K/0.98e-12*1000, 'mD')"
   ]
  },
  {
   "cell_type": "code",
   "execution_count": null,
   "metadata": {},
   "outputs": [],
   "source": []
  }
 ],
 "metadata": {
  "@webio": {
   "lastCommId": null,
   "lastKernelId": null
  },
  "hide_input": false,
  "kernelspec": {
   "display_name": "Python 3",
   "language": "python",
   "name": "python3"
  },
  "language_info": {
   "codemirror_mode": {
    "name": "ipython",
    "version": 3
   },
   "file_extension": ".py",
   "mimetype": "text/x-python",
   "name": "python",
   "nbconvert_exporter": "python",
   "pygments_lexer": "ipython3",
   "version": "3.7.3"
  }
 },
 "nbformat": 4,
 "nbformat_minor": 2
}
